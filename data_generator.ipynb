{
  "nbformat": 4,
  "nbformat_minor": 0,
  "metadata": {
    "colab": {
      "name": "data_generator.ipynb",
      "version": "0.3.2",
      "provenance": [],
      "collapsed_sections": [],
      "include_colab_link": true
    },
    "kernelspec": {
      "name": "python3",
      "display_name": "Python 3"
    },
    "accelerator": "GPU"
  },
  "cells": [
    {
      "cell_type": "markdown",
      "metadata": {
        "id": "view-in-github",
        "colab_type": "text"
      },
      "source": [
        "<a href=\"https://colab.research.google.com/github/Fabio-Ottaviani-Dev/tensorflow/blob/master/data_generator.ipynb\" target=\"_parent\"><img src=\"https://colab.research.google.com/assets/colab-badge.svg\" alt=\"Open In Colab\"/></a>"
      ]
    },
    {
      "metadata": {
        "id": "Lgb5G7Y4PfX1",
        "colab_type": "code",
        "outputId": "7fdc5fa5-8143-459b-8674-623e3a7f9cc4",
        "colab": {
          "base_uri": "https://localhost:8080/",
          "height": 364
        }
      },
      "cell_type": "code",
      "source": [
        "# define the function blocks\n",
        "\n",
        "def celsius_to_fahrenheit_data():\n",
        "  # 𝑓=𝑐×1.8+32\n",
        "\n",
        "  c = -20\n",
        "  c_arr = []\n",
        "  f_arr = []\n",
        "\n",
        "  while c <= 5:\n",
        "    f = ((c*1.8)+32)  \n",
        "    c_arr.append(c)\n",
        "    #f_arr.append(round(f,1))\n",
        "    f_arr.append(f)\n",
        "    c += 1\n",
        "\n",
        "  for el_c in c_arr:\n",
        "    print(el_c)\n",
        "\n",
        "  for el_f in f_arr:\n",
        "    print(el_f)    \n",
        "    \n",
        "def cm_to_inches_data():\n",
        "  # inche = Cm/2.54\n",
        "  \n",
        "  cm = 1\n",
        "  cm_arr = []\n",
        "  inc_arr = []\n",
        "\n",
        "  while cm <= 10:\n",
        "    inc = (cm/2.54)  \n",
        "    cm_arr.append(cm)\n",
        "    #inc_arr.append(round(inc,4))\n",
        "    inc_arr.append(inc)\n",
        "    cm += 1\n",
        "\n",
        "  for el_cm in cm_arr:\n",
        "    print(el_cm)\n",
        "\n",
        "  for el_inc in inc_arr:\n",
        "    print(el_inc)    \n",
        "    \n",
        "def last_stuff():\n",
        "    print(\"you get the last_stuff\\n\")\n",
        "\n",
        "\n",
        "# map the inputs to the function blocks\n",
        "\n",
        "options = {\n",
        "  0 : celsius_to_fahrenheit_data,\n",
        "  1 : cm_to_inches_data,\n",
        "  2 : last_stuff\n",
        "}\n",
        "\n",
        "options[1]()\n",
        "\n",
        "\n",
        "\n",
        "  "
      ],
      "execution_count": 19,
      "outputs": [
        {
          "output_type": "stream",
          "text": [
            "1\n",
            "2\n",
            "3\n",
            "4\n",
            "5\n",
            "6\n",
            "7\n",
            "8\n",
            "9\n",
            "10\n",
            "0.39370078740157477\n",
            "0.7874015748031495\n",
            "1.1811023622047243\n",
            "1.574803149606299\n",
            "1.968503937007874\n",
            "2.3622047244094486\n",
            "2.7559055118110236\n",
            "3.149606299212598\n",
            "3.543307086614173\n",
            "3.937007874015748\n"
          ],
          "name": "stdout"
        }
      ]
    }
  ]
}