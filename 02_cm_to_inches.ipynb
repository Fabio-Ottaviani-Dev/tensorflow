{
  "nbformat": 4,
  "nbformat_minor": 0,
  "metadata": {
    "colab": {
      "name": "02_cm_to_inches.ipynb",
      "version": "0.3.2",
      "provenance": [],
      "collapsed_sections": [],
      "include_colab_link": true
    },
    "kernelspec": {
      "name": "python3",
      "display_name": "Python 3"
    },
    "accelerator": "GPU"
  },
  "cells": [
    {
      "cell_type": "markdown",
      "metadata": {
        "id": "view-in-github",
        "colab_type": "text"
      },
      "source": [
        "<a href=\"https://colab.research.google.com/github/Fabio-Ottaviani-Dev/tensorflow/blob/master/02_cm_to_inches.ipynb\" target=\"_parent\"><img src=\"https://colab.research.google.com/assets/colab-badge.svg\" alt=\"Open In Colab\"/></a>"
      ]
    },
    {
      "metadata": {
        "id": "QrfZTtHWhCsh",
        "colab_type": "text"
      },
      "cell_type": "markdown",
      "source": [
        "## Cm to inches\n",
        "\n",
        "---\n",
        "\n"
      ]
    },
    {
      "metadata": {
        "id": "8RNIhl4PhUNO",
        "colab_type": "code",
        "outputId": "6c2db4a9-1075-41b1-e3c3-1c06c42c57dc",
        "colab": {
          "base_uri": "https://localhost:8080/",
          "height": 318
        }
      },
      "cell_type": "code",
      "source": [
        "# inche = Cm/2.54\n",
        "\n",
        "# Import dependencies\n",
        "\n",
        "from __future__ import absolute_import, division, print_function, unicode_literals\n",
        "import tensorflow as tf\n",
        "tf.logging.set_verbosity(tf.logging.ERROR)\n",
        "\n",
        "import numpy as np\n",
        "import matplotlib.pyplot as plt # https://matplotlib.org/\n",
        "\n",
        "# Set up training data\n",
        "\n",
        "n_samples = 100\n",
        "\n",
        "cm = 1\n",
        "cm_arr = []\n",
        "inc_arr = []\n",
        "\n",
        "while cm <= n_samples:\n",
        "  inc = (cm/2.54)  \n",
        "  cm_arr.append(cm)\n",
        "  #inc_arr.append(round(inc,6))\n",
        "  inc_arr.append(inc)\n",
        "  cm += 1\n",
        "\n",
        "cm_q    = cm_arr\n",
        "inc_a = inc_arr\n",
        "\n",
        "# Create the model\n",
        "l0 = tf.keras.layers.Dense(units=1, input_shape=[1])\n",
        "\n",
        "# Assemble layers into the model\n",
        "model = tf.keras.Sequential([l0])\n",
        "\n",
        "# Compile the model, with loss and optimizer functions\n",
        "model.compile(loss='mean_squared_error', optimizer=tf.keras.optimizers.Adam(0.1))\n",
        "\n",
        "# Train the model\n",
        "history = model.fit(cm_q, inc_a, epochs=500, verbose=False)\n",
        "print(\"Finished training the model\")\n",
        "\n",
        "# Display training statistics\n",
        "plt.xlabel('Epoch Number')\n",
        "plt.ylabel(\"Loss Magnitude\")\n",
        "plt.plot(history.history['loss'])"
      ],
      "execution_count": 0,
      "outputs": [
        {
          "output_type": "stream",
          "text": [
            "Finished training the model\n"
          ],
          "name": "stdout"
        },
        {
          "output_type": "execute_result",
          "data": {
            "text/plain": [
              "[<matplotlib.lines.Line2D at 0x7f68af233518>]"
            ]
          },
          "metadata": {
            "tags": []
          },
          "execution_count": 10
        },
        {
          "output_type": "display_data",
          "data": {
            "image/png": "[encoded data removed]",
            "text/plain": [
              "<Figure size 432x288 with 1 Axes>"
            ]
          },
          "metadata": {
            "tags": []
          }
        }
      ]
    },
    {
      "metadata": {
        "id": "IkdxKpq5mGPz",
        "colab_type": "text"
      },
      "cell_type": "markdown",
      "source": [
        "### Use the model to predict values"
      ]
    },
    {
      "metadata": {
        "id": "n5tW2Ij9mB7-",
        "colab_type": "code",
        "outputId": "def5422b-5e6e-49d9-aaf7-03759045f1fe",
        "colab": {
          "base_uri": "https://localhost:8080/",
          "height": 384
        }
      },
      "cell_type": "code",
      "source": [
        "n_test_samples = 40\n",
        "slice_from = int(n_samples - (n_test_samples/2))\n",
        "slice_to = slice_from + n_test_samples + 1\n",
        "\n",
        "#print(slice_from, slice_to)\n",
        "\n",
        "\n",
        "# Use the model to predict values\n",
        "result = model.predict(cm_arr[slice_from:slice_to])\n",
        "print(result, inc_arr[slice_from:slice_to])"
      ],
      "execution_count": 0,
      "outputs": [
        {
          "output_type": "stream",
          "text": [
            "[[31.88976 ]\n",
            " [32.28346 ]\n",
            " [32.67716 ]\n",
            " [33.07086 ]\n",
            " [33.46456 ]\n",
            " [33.85826 ]\n",
            " [34.25196 ]\n",
            " [34.645664]\n",
            " [35.039364]\n",
            " [35.433064]\n",
            " [35.826767]\n",
            " [36.220467]\n",
            " [36.614166]\n",
            " [37.007866]\n",
            " [37.40157 ]\n",
            " [37.79527 ]\n",
            " [38.18897 ]\n",
            " [38.582672]\n",
            " [38.97637 ]\n",
            " [39.37007 ]] [31.88976377952756, 32.28346456692913, 32.67716535433071, 33.07086614173228, 33.46456692913386, 33.85826771653543, 34.25196850393701, 34.645669291338585, 35.039370078740156, 35.43307086614173, 35.826771653543304, 36.22047244094488, 36.61417322834646, 37.00787401574803, 37.40157480314961, 37.79527559055118, 38.188976377952756, 38.58267716535433, 38.976377952755904, 39.37007874015748]\n"
          ],
          "name": "stdout"
        }
      ]
    }
  ]
}