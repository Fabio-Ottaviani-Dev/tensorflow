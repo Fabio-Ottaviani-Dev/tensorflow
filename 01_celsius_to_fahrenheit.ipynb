{
  "nbformat": 4,
  "nbformat_minor": 0,
  "metadata": {
    "colab": {
      "name": "01_celsius_to_fahrenheit.ipynb",
      "version": "0.3.2",
      "provenance": [],
      "collapsed_sections": [],
      "include_colab_link": true
    },
    "kernelspec": {
      "name": "python3",
      "display_name": "Python 3"
    },
    "accelerator": "GPU"
  },
  "cells": [
    {
      "cell_type": "markdown",
      "metadata": {
        "id": "view-in-github",
        "colab_type": "text"
      },
      "source": [
        "<a href=\"https://colab.research.google.com/github/Fabio-Ottaviani-Dev/tensorflow/blob/master/01_celsius_to_fahrenheit.ipynb\" target=\"_parent\"><img src=\"https://colab.research.google.com/assets/colab-badge.svg\" alt=\"Open In Colab\"/></a>"
      ]
    },
    {
      "metadata": {
        "id": "QrfZTtHWhCsh",
        "colab_type": "text"
      },
      "cell_type": "markdown",
      "source": [
        "## Celsius to fahrenheit"
      ]
    },
    {
      "metadata": {
        "id": "8RNIhl4PhUNO",
        "colab_type": "code",
        "outputId": "bab5e33c-2b70-44df-87ce-0a70341fa8b1",
        "colab": {
          "base_uri": "https://localhost:8080/",
          "height": 318
        }
      },
      "cell_type": "code",
      "source": [
        "# 𝑓=𝑐×1.8+32\n",
        "\n",
        "# Import dependencies\n",
        "\n",
        "from __future__ import absolute_import, division, print_function, unicode_literals\n",
        "import tensorflow as tf\n",
        "tf.logging.set_verbosity(tf.logging.ERROR)\n",
        "\n",
        "import numpy as np\n",
        "import matplotlib.pyplot as plt # https://matplotlib.org/\n",
        "\n",
        "# Set up training data\n",
        "# celsius_q    = np.array([-40, -10,  0,  8, 15, 22,  38],  dtype=float)\n",
        "# fahrenheit_a = np.array([-40,  14, 32, 46, 59, 72, 100],  dtype=float)\n",
        "\n",
        "n_samples = 250\n",
        "\n",
        "c = -n_samples\n",
        "c_arr = []\n",
        "f_arr = []\n",
        "\n",
        "while c <= n_samples:\n",
        "  \n",
        "  f = ((c*1.8)+32)  \n",
        "  c_arr.append(c)\n",
        "  f_arr.append(f)\n",
        "  c += 1\n",
        "\n",
        "celsius_q    = c_arr\n",
        "fahrenheit_a = f_arr\n",
        "\n",
        "\n",
        "# Create the model\n",
        "l0 = tf.keras.layers.Dense(units=2, input_shape=[1])\n",
        "\n",
        "# Assemble layers into the model\n",
        "model = tf.keras.Sequential([l0])\n",
        "\n",
        "# Compile the model, with loss and optimizer functions\n",
        "model.compile(loss='mean_squared_error', optimizer=tf.keras.optimizers.Adam(0.1))\n",
        "\n",
        "# Train the model\n",
        "history = model.fit(celsius_q, fahrenheit_a, epochs=500, verbose=False)\n",
        "print(\"Finished training the model\")\n",
        "\n",
        "# Display training statistics\n",
        "plt.xlabel('Epoch Number')\n",
        "plt.ylabel(\"Loss Magnitude\")\n",
        "plt.plot(history.history['loss'])"
      ],
      "execution_count": 10,
      "outputs": [
        {
          "output_type": "stream",
          "text": [
            "Finished training the model\n"
          ],
          "name": "stdout"
        },
        {
          "output_type": "execute_result",
          "data": {
            "text/plain": [
              "[<matplotlib.lines.Line2D at 0x7f1bb4100c18>]"
            ]
          },
          "metadata": {
            "tags": []
          },
          "execution_count": 10
        },
        {
          "output_type": "display_data",
          "data": {
            "image/png": "[encoded data removed]",
            "text/plain": [
              "<Figure size 432x288 with 1 Axes>"
            ]
          },
          "metadata": {
            "tags": []
          }
        }
      ]
    },
    {
      "metadata": {
        "id": "IkdxKpq5mGPz",
        "colab_type": "text"
      },
      "cell_type": "markdown",
      "source": [
        "### Use the model to predict values"
      ]
    },
    {
      "metadata": {
        "id": "n5tW2Ij9mB7-",
        "colab_type": "code",
        "outputId": "174c4585-0994-404b-c1f9-a899c0cff182",
        "colab": {
          "base_uri": "https://localhost:8080/",
          "height": 749
        }
      },
      "cell_type": "code",
      "source": [
        "n_test_samples = 40\n",
        "slice_from = int(n_samples - (n_test_samples/2))\n",
        "slice_to = slice_from + n_test_samples + 1\n",
        "\n",
        "#print(slice_from, slice_to)\n",
        "\n",
        "\n",
        "# Use the model to predict values\n",
        "result = model.predict(c_arr[slice_from:slice_to])\n",
        "print(result, f_arr[slice_from:slice_to])"
      ],
      "execution_count": 0,
      "outputs": [
        {
          "output_type": "stream",
          "text": [
            "[[-4.         -3.9999924 ]\n",
            " [-2.2000008  -2.1999931 ]\n",
            " [-0.40000153 -0.3999939 ]\n",
            " [ 1.3999996   1.4000053 ]\n",
            " [ 3.1999989   3.2000046 ]\n",
            " [ 4.999998    5.000004  ]\n",
            " [ 6.799999    6.800003  ]\n",
            " [ 8.599998    8.600004  ]\n",
            " [10.4        10.400003  ]\n",
            " [12.199999   12.200003  ]\n",
            " [14.         14.000004  ]\n",
            " [15.799999   15.800003  ]\n",
            " [17.599998   17.600002  ]\n",
            " [19.4        19.400002  ]\n",
            " [21.2        21.2       ]\n",
            " [23.         23.000002  ]\n",
            " [24.8        24.800001  ]\n",
            " [26.6        26.6       ]\n",
            " [28.4        28.400002  ]\n",
            " [30.2        30.2       ]\n",
            " [32.         32.        ]\n",
            " [33.8        33.8       ]\n",
            " [35.6        35.6       ]\n",
            " [37.4        37.399998  ]\n",
            " [39.2        39.199997  ]\n",
            " [41.         41.        ]\n",
            " [42.8        42.8       ]\n",
            " [44.6        44.6       ]\n",
            " [46.4        46.399998  ]\n",
            " [48.2        48.199997  ]\n",
            " [50.         49.999996  ]\n",
            " [51.800003   51.799995  ]\n",
            " [53.6        53.6       ]\n",
            " [55.4        55.399994  ]\n",
            " [57.2        57.199997  ]\n",
            " [59.         58.999996  ]\n",
            " [60.800003   60.799995  ]\n",
            " [62.6        62.599995  ]\n",
            " [64.4        64.399994  ]\n",
            " [66.2        66.2       ]\n",
            " [68.         67.99999   ]] [-4.0, -2.2, -0.4, 1.4, 3.2, 5.0, 6.8, 8.6, 10.4, 12.2, 14.0, 15.8, 17.6, 19.4, 21.2, 23.0, 24.8, 26.6, 28.4, 30.2, 32.0, 33.8, 35.6, 37.4, 39.2, 41.0, 42.8, 44.6, 46.4, 48.2, 50.0, 51.8, 53.6, 55.4, 57.2, 59.0, 60.8, 62.6, 64.4, 66.2, 68.0]\n"
          ],
          "name": "stdout"
        }
      ]
    }
  ]
}