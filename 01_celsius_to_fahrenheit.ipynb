{
  "nbformat": 4,
  "nbformat_minor": 0,
  "metadata": {
    "colab": {
      "name": "01-celsius-to-fahrenheit.ipynb",
      "version": "0.3.2",
      "provenance": [],
      "collapsed_sections": [],
      "include_colab_link": true
    },
    "kernelspec": {
      "name": "python3",
      "display_name": "Python 3"
    },
    "accelerator": "GPU"
  },
  "cells": [
    {
      "cell_type": "markdown",
      "metadata": {
        "id": "view-in-github",
        "colab_type": "text"
      },
      "source": [
        "<a href=\"https://colab.research.google.com/github/Fabio-Ottaviani-Dev/tensorflow/blob/master/01_celsius_to_fahrenheit.ipynb\" target=\"_parent\"><img src=\"https://colab.research.google.com/assets/colab-badge.svg\" alt=\"Open In Colab\"/></a>"
      ]
    },
    {
      "metadata": {
        "id": "QrfZTtHWhCsh",
        "colab_type": "text"
      },
      "cell_type": "markdown",
      "source": [
        "## The Basics: Training Your First Model V.2"
      ]
    },
    {
      "metadata": {
        "id": "8RNIhl4PhUNO",
        "colab_type": "code",
        "outputId": "4c962575-6361-4717-ef58-46cf5060f104",
        "colab": {
          "base_uri": "https://localhost:8080/",
          "height": 318
        }
      },
      "cell_type": "code",
      "source": [
        "# 𝑓=𝑐×1.8+32\n",
        "\n",
        "# Import dependencies\n",
        "\n",
        "from __future__ import absolute_import, division, print_function, unicode_literals\n",
        "import tensorflow as tf\n",
        "tf.logging.set_verbosity(tf.logging.ERROR)\n",
        "\n",
        "import numpy as np\n",
        "import matplotlib.pyplot as plt # https://matplotlib.org/\n",
        "\n",
        "# Set up training data\n",
        "# celsius_q    = np.array([-40, -10,  0,  8, 15, 22,  38],  dtype=float)\n",
        "# fahrenheit_a = np.array([-40,  14, 32, 46, 59, 72, 100],  dtype=float)\n",
        "\n",
        "n_samples = 250\n",
        "\n",
        "c = -n_samples\n",
        "c_arr = []\n",
        "f_arr = []\n",
        "\n",
        "while c <= n_samples:\n",
        "  \n",
        "  f = ((c*1.8)+32)  \n",
        "  c_arr.append(c)\n",
        "  f_arr.append(round(f,1))\n",
        "  c += 1\n",
        "\n",
        "celsius_q    = c_arr\n",
        "fahrenheit_a = f_arr\n",
        "\n",
        "\n",
        "# Create the model\n",
        "l0 = tf.keras.layers.Dense(units=2, input_shape=[1])\n",
        "\n",
        "# Assemble layers into the model\n",
        "model = tf.keras.Sequential([l0])\n",
        "\n",
        "# Compile the model, with loss and optimizer functions\n",
        "model.compile(loss='mean_squared_error', optimizer=tf.keras.optimizers.Adam(0.1))\n",
        "\n",
        "# Train the model\n",
        "history = model.fit(celsius_q, fahrenheit_a, epochs=500, verbose=False)\n",
        "print(\"Finished training the model\")\n",
        "\n",
        "# Display training statistics\n",
        "plt.xlabel('Epoch Number')\n",
        "plt.ylabel(\"Loss Magnitude\")\n",
        "plt.plot(history.history['loss'])"
      ],
      "execution_count": 6,
      "outputs": [
        {
          "output_type": "stream",
          "text": [
            "Finished training the model\n"
          ],
          "name": "stdout"
        },
        {
          "output_type": "execute_result",
          "data": {
            "text/plain": [
              "[<matplotlib.lines.Line2D at 0x7faeae20b898>]"
            ]
          },
          "metadata": {
            "tags": []
          },
          "execution_count": 6
        },
        {
          "output_type": "display_data",
          "data": {
            "image/png": "[encoded data removed]",
            "text/plain": [
              "<Figure size 432x288 with 1 Axes>"
            ]
          },
          "metadata": {
            "tags": []
          }
        }
      ]
    },
    {
      "metadata": {
        "id": "IkdxKpq5mGPz",
        "colab_type": "text"
      },
      "cell_type": "markdown",
      "source": [
        "### Use the model to predict values"
      ]
    },
    {
      "metadata": {
        "id": "n5tW2Ij9mB7-",
        "colab_type": "code",
        "colab": {
          "base_uri": "https://localhost:8080/",
          "height": 575
        },
        "outputId": "41a52795-b8f5-4c8e-af96-0c5b65b570a5"
      },
      "cell_type": "code",
      "source": [
        "n_test_samples = 30\n",
        "slice_from = int(n_samples - (n_test_samples/2))\n",
        "slice_to = slice_from + n_test_samples + 1\n",
        "\n",
        "#print(slice_from, slice_to)\n",
        "\n",
        "\n",
        "# Use the model to predict values\n",
        "result = model.predict(c_arr[slice_from:slice_to])\n",
        "print(result, f_arr[slice_from:slice_to])"
      ],
      "execution_count": 7,
      "outputs": [
        {
          "output_type": "stream",
          "text": [
            "[[ 4.999996   5.000002   4.9999924]\n",
            " [ 6.7999973  6.800003   6.7999916]\n",
            " [ 8.599997   8.600002   8.599993 ]\n",
            " [10.399998  10.400002  10.399994 ]\n",
            " [12.199997  12.200003  12.199993 ]\n",
            " [13.999996  14.000002  13.999994 ]\n",
            " [15.799997  15.800001  15.799995 ]\n",
            " [17.599997  17.600002  17.599995 ]\n",
            " [19.399998  19.400002  19.399996 ]\n",
            " [21.199997  21.2       21.199997 ]\n",
            " [22.999996  23.        22.999996 ]\n",
            " [24.799995  24.800001  24.799997 ]\n",
            " [26.599997  26.6       26.599998 ]\n",
            " [28.399996  28.4       28.4      ]\n",
            " [30.199997  30.2       30.199999 ]\n",
            " [31.999996  32.        32.       ]\n",
            " [33.799995  33.8       33.8      ]\n",
            " [35.599995  35.6       35.600002 ]\n",
            " [37.399994  37.4       37.4      ]\n",
            " [39.199997  39.2       39.2      ]\n",
            " [40.999996  41.        41.000004 ]\n",
            " [42.799995  42.8       42.800003 ]\n",
            " [44.599995  44.6       44.600006 ]\n",
            " [46.399994  46.399998  46.400005 ]\n",
            " [48.199997  48.199997  48.200005 ]\n",
            " [49.999996  50.        50.000008 ]\n",
            " [51.799995  51.799995  51.800007 ]\n",
            " [53.599995  53.6       53.600006 ]\n",
            " [55.399994  55.399998  55.40001  ]\n",
            " [57.199997  57.199997  57.20001  ]\n",
            " [58.999996  59.        59.000008 ]] [5.0, 6.8, 8.6, 10.4, 12.2, 14.0, 15.8, 17.6, 19.4, 21.2, 23.0, 24.8, 26.6, 28.4, 30.2, 32.0, 33.8, 35.6, 37.4, 39.2, 41.0, 42.8, 44.6, 46.4, 48.2, 50.0, 51.8, 53.6, 55.4, 57.2, 59.0]\n"
          ],
          "name": "stdout"
        }
      ]
    },
    {
      "metadata": {
        "id": "yQp2tW9lOEqK",
        "colab_type": "text"
      },
      "cell_type": "markdown",
      "source": [
        "todo next: https://www.convertunits.com/from/cm/to/inches\n"
      ]
    }
  ]
}