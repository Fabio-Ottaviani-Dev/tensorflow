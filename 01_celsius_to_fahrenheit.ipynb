{
  "nbformat": 4,
  "nbformat_minor": 0,
  "metadata": {
    "colab": {
      "name": "01-celsius-to-fahrenheit.ipynb",
      "version": "0.3.2",
      "provenance": [],
      "collapsed_sections": [],
      "include_colab_link": true
    },
    "kernelspec": {
      "name": "python3",
      "display_name": "Python 3"
    },
    "accelerator": "GPU"
  },
  "cells": [
    {
      "cell_type": "markdown",
      "metadata": {
        "id": "view-in-github",
        "colab_type": "text"
      },
      "source": [
        "<a href=\"https://colab.research.google.com/github/Fabio-Ottaviani-Dev/tensorflow/blob/master/01_celsius_to_fahrenheit.ipynb\" target=\"_parent\"><img src=\"https://colab.research.google.com/assets/colab-badge.svg\" alt=\"Open In Colab\"/></a>"
      ]
    },
    {
      "metadata": {
        "id": "QrfZTtHWhCsh",
        "colab_type": "text"
      },
      "cell_type": "markdown",
      "source": [
        "## The Basics: Training Your First Model V.2"
      ]
    },
    {
      "metadata": {
        "id": "8RNIhl4PhUNO",
        "colab_type": "code",
        "outputId": "d97375b6-1142-47f7-a3bf-a82ffcbeb028",
        "colab": {
          "base_uri": "https://localhost:8080/",
          "height": 318
        }
      },
      "cell_type": "code",
      "source": [
        "# 𝑓=𝑐×1.8+32\n",
        "\n",
        "# Import dependencies\n",
        "\n",
        "from __future__ import absolute_import, division, print_function, unicode_literals\n",
        "import tensorflow as tf\n",
        "tf.logging.set_verbosity(tf.logging.ERROR)\n",
        "\n",
        "import numpy as np\n",
        "import matplotlib.pyplot as plt # https://matplotlib.org/\n",
        "\n",
        "# Set up training data\n",
        "# celsius_q    = np.array([-40, -10,  0,  8, 15, 22,  38],  dtype=float)\n",
        "# fahrenheit_a = np.array([-40,  14, 32, 46, 59, 72, 100],  dtype=float)\n",
        "\n",
        "n_samples = 250\n",
        "\n",
        "c = -n_samples\n",
        "c_arr = []\n",
        "f_arr = []\n",
        "\n",
        "while c <= n_samples:\n",
        "  \n",
        "  f = ((c*1.8)+32)  \n",
        "  c_arr.append(c)\n",
        "  f_arr.append(round(f,1))\n",
        "  c += 1\n",
        "\n",
        "celsius_q    = c_arr\n",
        "fahrenheit_a = f_arr\n",
        "\n",
        "\n",
        "# Create the model\n",
        "l0 = tf.keras.layers.Dense(units=1, input_shape=[1])\n",
        "\n",
        "# Assemble layers into the model\n",
        "model = tf.keras.Sequential([l0])\n",
        "\n",
        "# Compile the model, with loss and optimizer functions\n",
        "model.compile(loss='mean_squared_error', optimizer=tf.keras.optimizers.Adam(0.1))\n",
        "\n",
        "# Train the model\n",
        "history = model.fit(celsius_q, fahrenheit_a, epochs=500, verbose=False)\n",
        "print(\"Finished training the model\")\n",
        "\n",
        "# Display training statistics\n",
        "plt.xlabel('Epoch Number')\n",
        "plt.ylabel(\"Loss Magnitude\")\n",
        "plt.plot(history.history['loss'])"
      ],
      "execution_count": 2,
      "outputs": [
        {
          "output_type": "stream",
          "text": [
            "Finished training the model\n"
          ],
          "name": "stdout"
        },
        {
          "output_type": "execute_result",
          "data": {
            "text/plain": [
              "[<matplotlib.lines.Line2D at 0x7fb7c74b0f60>]"
            ]
          },
          "metadata": {
            "tags": []
          },
          "execution_count": 2
        },
        {
          "output_type": "display_data",
          "data": {
            "image/png": "[encoded data removed]",
            "text/plain": [
              "<Figure size 432x288 with 1 Axes>"
            ]
          },
          "metadata": {
            "tags": []
          }
        }
      ]
    },
    {
      "metadata": {
        "id": "IkdxKpq5mGPz",
        "colab_type": "text"
      },
      "cell_type": "markdown",
      "source": [
        "### Use the model to predict values"
      ]
    },
    {
      "metadata": {
        "id": "n5tW2Ij9mB7-",
        "colab_type": "code",
        "colab": {}
      },
      "cell_type": "code",
      "source": [
        "n_test_samples = 20\n",
        "slice_from = int(n_samples - (n_test_samples/2))\n",
        "slice_to = slice_from + n_test_samples + 1\n",
        "\n",
        "#print(slice_from, slice_to)\n",
        "\n",
        "\n",
        "# Use the model to predict values\n",
        "result = model.predict(c_arr[slice_from:slice_to])\n",
        "print(result, f_arr[slice_from:slice_to])"
      ],
      "execution_count": 0,
      "outputs": []
    },
    {
      "metadata": {
        "id": "yQp2tW9lOEqK",
        "colab_type": "text"
      },
      "cell_type": "markdown",
      "source": [
        "todo next: https://www.convertunits.com/from/cm/to/inches\n"
      ]
    }
  ]
}